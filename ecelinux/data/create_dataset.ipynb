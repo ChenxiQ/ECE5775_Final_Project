{
 "cells": [
  {
   "cell_type": "code",
   "execution_count": 92,
   "outputs": [],
   "source": [
    "import numpy as np\n",
    "import cv2\n",
    "from mnist import MNIST\n",
    "from const import *\n",
    "from matplotlib import pyplot as plt"
   ],
   "metadata": {
    "collapsed": false
   }
  },
  {
   "cell_type": "code",
   "execution_count": 93,
   "outputs": [],
   "source": [
    "# Create dataset with full size 28*28\n",
    "digits, labels = MNIST('./MNIST').load_training()\n",
    "\n",
    "with open(\"./image.dat\", \"w\") as image_file:\n",
    "    for i in range(M):\n",
    "        tmp = \"\\n\".join(str(bit) for bit in digits[i]) + \"\\n\"\n",
    "        image_file.writelines(tmp)\n",
    "\n",
    "with open(\"./label.dat\", \"w\") as label_file:\n",
    "    for i in range(M):\n",
    "        label_file.writelines(str(labels[i]) + \"\\n\")"
   ],
   "metadata": {
    "collapsed": false
   }
  },
  {
   "cell_type": "code",
   "execution_count": 94,
   "outputs": [
    {
     "data": {
      "text/plain": "<Figure size 864x576 with 10 Axes>",
      "image/png": "[encoded data removed]"
     },
     "metadata": {
      "needs_background": "light"
     },
     "output_type": "display_data"
    }
   ],
   "source": [
    "# Plot dataset\n",
    "fig, ax = plt.subplots(1, 10)\n",
    "digits = np.zeros([10, 28, 28], dtype=np.uint8)\n",
    "\n",
    "with open(\"./image.dat\") as image_file:\n",
    "    for i in range(10):\n",
    "        for j in range(28):\n",
    "            for k in range(28):\n",
    "                digits[i][j][k] = int(image_file.readline())\n",
    "\n",
    "for i in range(10):\n",
    "    digit = digits[i]\n",
    "    ax[i].imshow(digit, cmap=plt.cm.gray_r, interpolation=\"nearest\")\n",
    "    ax[i].set_title(labels[i])\n",
    "    ax[i].get_xaxis().set_visible(False)\n",
    "    ax[i].get_yaxis().set_visible(False)\n",
    "\n",
    "fig.set_size_inches(12, 8)"
   ],
   "metadata": {
    "collapsed": false
   }
  },
  {
   "cell_type": "code",
   "execution_count": 95,
   "outputs": [],
   "source": [
    "# Create down-sampled dataset to 10*10\n",
    "digits, labels = MNIST('./MNIST').load_training()\n",
    "\n",
    "with open(\"./image_ds.dat\", \"w\") as image_file:\n",
    "    for i in range(M):\n",
    "        digit_np = np.array(digits[i]).reshape([28, 28]).astype('float32')\n",
    "        down_sampled_digits = cv2.resize(digit_np, (10, 10)).flatten().astype(np.uint8)\n",
    "        tmp = \"\\n\".join(str(int(bit)) for bit in down_sampled_digits) + \"\\n\"\n",
    "        image_file.writelines(tmp)"
   ],
   "metadata": {
    "collapsed": false
   }
  },
  {
   "cell_type": "code",
   "execution_count": 96,
   "outputs": [
    {
     "data": {
      "text/plain": "<Figure size 864x576 with 10 Axes>",
      "image/png": "[encoded data removed]"
     },
     "metadata": {
      "needs_background": "light"
     },
     "output_type": "display_data"
    }
   ],
   "source": [
    "# Plot dataset\n",
    "fig, ax = plt.subplots(1, 10)\n",
    "digits = np.zeros([10, 10, 10], dtype=np.uint8)\n",
    "\n",
    "with open(\"./image_ds.dat\") as image_file:\n",
    "    for i in range(10):\n",
    "        for j in range(10):\n",
    "            for k in range(10):\n",
    "                digits[i][j][k] = int(image_file.readline())\n",
    "\n",
    "for i in range(10):\n",
    "    digit = digits[i]\n",
    "    ax[i].imshow(digit, cmap=plt.cm.gray_r, interpolation=\"nearest\")\n",
    "    ax[i].set_title(labels[i])\n",
    "    ax[i].get_xaxis().set_visible(False)\n",
    "    ax[i].get_yaxis().set_visible(False)\n",
    "\n",
    "fig.set_size_inches(12, 8)"
   ],
   "metadata": {
    "collapsed": false
   }
  },
  {
   "cell_type": "code",
   "execution_count": null,
   "outputs": [],
   "source": [],
   "metadata": {
    "collapsed": false,
    "pycharm": {
     "is_executing": true
    }
   }
  }
 ],
 "metadata": {
  "kernelspec": {
   "display_name": "Python 3",
   "language": "python",
   "name": "python3"
  },
  "language_info": {
   "codemirror_mode": {
    "name": "ipython",
    "version": 2
   },
   "file_extension": ".py",
   "mimetype": "text/x-python",
   "name": "python",
   "nbconvert_exporter": "python",
   "pygments_lexer": "ipython2",
   "version": "2.7.6"
  }
 },
 "nbformat": 4,
 "nbformat_minor": 0
}
