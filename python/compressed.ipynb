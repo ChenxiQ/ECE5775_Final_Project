{
 "cells": [
  {
   "cell_type": "code",
   "execution_count": 27,
   "metadata": {
    "collapsed": true
   },
   "outputs": [],
   "source": [
    "import numpy as np\n",
    "from mnist import MNIST\n",
    "from const import *\n",
    "from matplotlib import pyplot as plt"
   ]
  },
  {
   "cell_type": "code",
   "execution_count": 28,
   "outputs": [],
   "source": [
    "# Create dataset with full size 28*28\n",
    "digits, labels = MNIST('./MNIST').load_training()\n",
    "\n",
    "with open(\"./image.dat\", \"w\") as image_file:\n",
    "    for i in range(M):\n",
    "        tmp = \"\\n\".join(str(bit) for bit in digits[i]) + \"\\n\"\n",
    "        image_file.writelines(tmp)\n",
    "\n",
    "with open(\"./label.dat\", \"w\") as label_file:\n",
    "    for i in range(M):\n",
    "        label_file.writelines(str(labels[i]) + \"\\n\")"
   ],
   "metadata": {
    "collapsed": false
   }
  },
  {
   "cell_type": "code",
   "execution_count": 29,
   "outputs": [],
   "source": [
    "# Load compressed result and recover image\n",
    "k = 10\n",
    "img_num = 100\n",
    "img_dim = 784\n",
    "\n",
    "with open(\"./y.dat\") as fy:\n",
    "    y = np.zeros([k,img_num],dtype=float)\n",
    "    r = 0\n",
    "    for line in fy.readlines():\n",
    "        y_r = line.strip().split()\n",
    "        for i in range(len(y_r)):\n",
    "            y[r][i] = float(y_r[i].strip())\n",
    "        r += 1\n",
    "\n",
    "with open(\"./tsf.dat\") as ftsf:\n",
    "    tsf = np.zeros([k,img_dim],dtype=float)\n",
    "    r = 0\n",
    "    for line in ftsf.readlines():\n",
    "        tsf_r = line.strip().split()\n",
    "        for i in range(len(tsf_r)):\n",
    "            tsf[r][i] = float(tsf_r[i].strip())\n",
    "        r += 1\n",
    "\n",
    "y = y.T\n",
    "\n",
    "# Recover image\n",
    "rec = np.matmul(y, tsf)\n",
    "rec[rec>255] = 255\n",
    "rec[rec<0] = 0"
   ],
   "metadata": {
    "collapsed": false
   }
  },
  {
   "cell_type": "code",
   "execution_count": 30,
   "outputs": [
    {
     "data": {
      "text/plain": "<Figure size 864x576 with 10 Axes>",
      "image/png": "[encoded data removed]"
     },
     "metadata": {
      "needs_background": "light"
     },
     "output_type": "display_data"
    }
   ],
   "source": [
    "# Plot original dataset\n",
    "fig, ax = plt.subplots(1, 10)\n",
    "digits = np.zeros([10, 28, 28], dtype=np.uint8)\n",
    "\n",
    "with open(\"./image.dat\") as image_file:\n",
    "    for i in range(10):\n",
    "        for j in range(28):\n",
    "            for k in range(28):\n",
    "                digits[i][j][k] = int(image_file.readline())\n",
    "\n",
    "for i in range(10):\n",
    "    digit = digits[i]\n",
    "    ax[i].imshow(digit, cmap=plt.cm.gray_r, interpolation=\"nearest\")\n",
    "    ax[i].set_title(labels[i])\n",
    "    ax[i].get_xaxis().set_visible(False)\n",
    "    ax[i].get_yaxis().set_visible(False)\n",
    "\n",
    "fig.set_size_inches(12, 8)"
   ],
   "metadata": {
    "collapsed": false
   }
  },
  {
   "cell_type": "code",
   "execution_count": 31,
   "outputs": [
    {
     "data": {
      "text/plain": "<Figure size 864x576 with 10 Axes>",
      "image/png": "[encoded data removed]"
     },
     "metadata": {
      "needs_background": "light"
     },
     "output_type": "display_data"
    }
   ],
   "source": [
    "# Plot recover image\n",
    "fig, ax = plt.subplots(1, 10)\n",
    "digits = np.zeros([10, 28, 28], dtype=np.uint8)\n",
    "\n",
    "rec = rec.reshape(100, 28, 28)[0:10, :, :]\n",
    "for i in range(10):\n",
    "    x = rec[i]\n",
    "    ax[i].imshow(x, cmap=plt.cm.gray_r, interpolation=\"nearest\")\n",
    "    ax[i].set_title(labels[i])\n",
    "    ax[i].get_xaxis().set_visible(False)\n",
    "    ax[i].get_yaxis().set_visible(False)\n",
    "\n",
    "fig.set_size_inches(12, 8)"
   ],
   "metadata": {
    "collapsed": false
   }
  },
  {
   "cell_type": "code",
   "execution_count": null,
   "outputs": [],
   "source": [],
   "metadata": {
    "collapsed": false
   }
  }
 ],
 "metadata": {
  "kernelspec": {
   "display_name": "Python 3",
   "language": "python",
   "name": "python3"
  },
  "language_info": {
   "codemirror_mode": {
    "name": "ipython",
    "version": 2
   },
   "file_extension": ".py",
   "mimetype": "text/x-python",
   "name": "python",
   "nbconvert_exporter": "python",
   "pygments_lexer": "ipython2",
   "version": "2.7.6"
  }
 },
 "nbformat": 4,
 "nbformat_minor": 0
}
